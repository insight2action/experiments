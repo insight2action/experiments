{
  "cells": [
    {
      "cell_type": "markdown",
      "metadata": {
        "id": "view-in-github",
        "colab_type": "text"
      },
      "source": [
        "<a href=\"https://colab.research.google.com/github/insight2action/experiments/blob/main/Fun_with_Pi.ipynb\" target=\"_parent\"><img src=\"https://colab.research.google.com/assets/colab-badge.svg\" alt=\"Open In Colab\"/></a>"
      ]
    },
    {
      "cell_type": "markdown",
      "source": [
        "##Estimating $\\pi$ is fun\n",
        "\n"
      ],
      "metadata": {
        "id": "TqpZnN0aWha2"
      }
    },
    {
      "cell_type": "code",
      "execution_count": 2,
      "metadata": {
        "collapsed": true,
        "id": "7tRdJHHn3IwL"
      },
      "outputs": [],
      "source": [
        "import numpy as np\n",
        "import matplotlib.pyplot as plt"
      ]
    },
    {
      "cell_type": "markdown",
      "source": [
        "Consider a square with side length $x$, and an inscribed circle with radius $\\frac{x}{2}$ that fits entirely within the square, as in the figure below. "
      ],
      "metadata": {
        "id": "HC40A2hSZINj"
      }
    },
    {
      "cell_type": "code",
      "source": [
        "figure, axes = plt.subplots(figsize=(3, 3))\n",
        "c = plt.Circle((0, 0), 1, fill = False)\n",
        "\n",
        "plt.xlim(-1,1)\n",
        "plt.ylim(-1,1)\n",
        "\n",
        "axes.add_patch(c)\n",
        "axes.set_yticks([])\n",
        "axes.set_xticks([])\n",
        "plt.show()"
      ],
      "metadata": {
        "colab": {
          "base_uri": "https://localhost:8080/",
          "height": 197
        },
        "id": "KmsXb4VRZx6J",
        "outputId": "31e74f25-d0e1-43d5-b88b-77770e04fc70"
      },
      "execution_count": 11,
      "outputs": [
        {
          "output_type": "display_data",
          "data": {
            "text/plain": [
              "<Figure size 216x216 with 1 Axes>"
            ],
            "image/png": "[encoded data removed]"
          },
          "metadata": {}
        }
      ]
    },
    {
      "cell_type": "markdown",
      "source": [
        "The area of the square $A_s = x^2$, while the area of the inscribed circle is $A_c = \\pi (\\frac{x}{2})^2$.\n",
        "\n",
        "Consider the ratio \n",
        "\n",
        "$$\n",
        "\\rho = \\frac{A_c}{A_s} = \\frac{\\pi (\\frac{x}{2})^2}{x^2} = \\frac{pi}{4}\n",
        "$$\n",
        "\n",
        "This identity can then be written as:\n",
        "\n",
        "$$\n",
        " 4 \\rho = \\pi\n",
        "$$\n",
        "\n",
        "If we can estimate the ratio $\\rho = \\frac{A_c}{A_s}$, we can compute an estimate for $\\pi$. \n",
        "\n",
        "Monte Carlo integration is a method for performing numerical integration using random numbers. If you randomly place points inside the square, some will end up inside the circle while some will not. $\\rho$ can then be estimated as the percentage of points in the square that are also in the circle.  s "
      ],
      "metadata": {
        "id": "TdO27BTybvan"
      }
    },
    {
      "cell_type": "code",
      "execution_count": 13,
      "metadata": {
        "id": "oVkwaFgL3IwN"
      },
      "outputs": [],
      "source": [
        "n_points = 10000\n",
        "\n",
        "#first, lets randomly generate n_points inside the square around the origin\n",
        "\n",
        "x = np.random.uniform(-1, 1, n_points)\n",
        "y = np.random.uniform(-1, 1, n_points)"
      ]
    },
    {
      "cell_type": "markdown",
      "source": [
        "`incircle` is a list of booleans values. For the $i^{th}$ point $(x_i, y_i)$:\n",
        "\n",
        "* `incircle[i]` = `True` means that this point is inside the circle of radius 1\n",
        "*  `incircle[i]` =  `False` means that the point is outside the circle. "
      ],
      "metadata": {
        "id": "E7m_fdN8xCDI"
      }
    },
    {
      "cell_type": "code",
      "source": [
        "incircle = [x*x + y*y <=1]"
      ],
      "metadata": {
        "id": "u1FRL_RC3qMf"
      },
      "execution_count": 14,
      "outputs": []
    },
    {
      "cell_type": "markdown",
      "source": [
        "`pi_guesses` is an array that holds the estimate of $\\pi$ at each iteration. First, we find the cumulative number of points inside the circle, then mulitply that by the the ratio of 4 to the total number of points at iteration $i$. "
      ],
      "metadata": {
        "id": "E_w9grKYxk2q"
      }
    },
    {
      "cell_type": "code",
      "source": [
        "pi_guesses = incircle.cumsum()\n",
        "\n",
        "pi_guesses = 4 * pi_guesses/np.ones(n_points).cumsum()"
      ],
      "metadata": {
        "id": "rNZAPLoj5K2z"
      },
      "execution_count": 79,
      "outputs": []
    },
    {
      "cell_type": "code",
      "source": [
        "plt.figure(figsize=(12, 6))\n",
        "\n",
        "plt.plot(pi_guesses[20:])\n",
        "plt.title(\"Convergence of Estimate for Pi using Monte Carlo Simulation\")\n",
        "plt.xlabel(\"Number of Iterations\")\n",
        "plt.ylabel(\"Estimate for Pi\")\n",
        "plt.show()"
      ],
      "metadata": {
        "colab": {
          "base_uri": "https://localhost:8080/",
          "height": 404
        },
        "id": "W5aQXb9Nr0so",
        "outputId": "64233ec0-065b-4bab-cbcc-44caa86e0a0a"
      },
      "execution_count": 80,
      "outputs": [
        {
          "output_type": "display_data",
          "data": {
            "text/plain": [
              "<Figure size 864x432 with 1 Axes>"
            ],
            "image/png": "[encoded data removed]"
          },
          "metadata": {
            "needs_background": "light"
          }
        }
      ]
    },
    {
      "cell_type": "code",
      "source": [
        "print(\"Our estimate of pi is\", pi_guesses[-1]) "
      ],
      "metadata": {
        "colab": {
          "base_uri": "https://localhost:8080/"
        },
        "id": "kCpHwi_bx-5k",
        "outputId": "bd606b78-aab4-4aab-e60d-2330111a83d5"
      },
      "execution_count": 82,
      "outputs": [
        {
          "output_type": "stream",
          "name": "stdout",
          "text": [
            "Our estimate of pi is 3.1452\n"
          ]
        }
      ]
    }
  ],
  "metadata": {
    "kernelspec": {
      "display_name": "Python 3",
      "language": "python",
      "name": "python3"
    },
    "language_info": {
      "codemirror_mode": {
        "name": "ipython",
        "version": 3
      },
      "file_extension": ".py",
      "mimetype": "text/x-python",
      "name": "python",
      "nbconvert_exporter": "python",
      "pygments_lexer": "ipython3",
      "version": "3.6.0"
    },
    "latex_envs": {
      "LaTeX_envs_menu_present": true,
      "autoclose": false,
      "autocomplete": true,
      "bibliofile": "biblio.bib",
      "cite_by": "apalike",
      "current_citInitial": 1,
      "eqLabelWithNumbers": true,
      "eqNumInitial": 1,
      "hotkeys": {
        "equation": "Ctrl-E",
        "itemize": "Ctrl-I"
      },
      "labels_anchors": false,
      "latex_user_defs": false,
      "report_style_numbering": false,
      "user_envs_cfg": false
    },
    "colab": {
      "provenance": [],
      "collapsed_sections": [],
      "include_colab_link": true
    }
  },
  "nbformat": 4,
  "nbformat_minor": 0
}